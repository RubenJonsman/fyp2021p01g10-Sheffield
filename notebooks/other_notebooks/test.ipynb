{
 "cells": [
  {
   "cell_type": "code",
   "execution_count": 478,
   "metadata": {},
   "outputs": [],
   "source": [
    "import pandas as pd\n",
    "import matplotlib.pyplot as plt\n",
    "import warnings\n",
    "warnings.filterwarnings('ignore')"
   ]
  },
  {
   "cell_type": "code",
   "execution_count": 479,
   "metadata": {},
   "outputs": [],
   "source": [
    "accidents = pd.read_csv(\"data/processed/Road Safety Data - Accidents 2019.csv\") \n",
    "vehicle   = pd.read_csv(\"data/processed/Road Safety Data - Vehicles 2019.csv\")\n",
    "casualty  = pd.read_csv(\"data/processed/Road Safety Data - Vehicles 2019.csv\")\n",
    "\n",
    "result = pd.concat([accidents, vehicle, casualty], axis=1)"
   ]
  },
  {
   "cell_type": "markdown",
   "metadata": {},
   "source": [
    "# Locating our city (Sheffield)\n",
    "Sheffield has the coordinates (lat, long) = (53.381130, -1.470085) thus we bounded the city limits from the followingcoordinates\n",
    "\n",
    "Or we just used the LAD"
   ]
  },
  {
   "cell_type": "code",
   "execution_count": 482,
   "metadata": {},
   "outputs": [],
   "source": [
    "sheffield = (result[\"Local_Authority_(District)\"] == 215)\n",
    "data = result[sheffield]\n",
    "data = data.loc[:,~data.columns.duplicated()]"
   ]
  },
  {
   "cell_type": "code",
   "execution_count": 480,
   "metadata": {},
   "outputs": [],
   "source": [
    "#list(data.columns)"
   ]
  },
  {
   "cell_type": "code",
   "execution_count": 489,
   "metadata": {},
   "outputs": [
    {
     "name": "stdout",
     "output_type": "stream",
     "text": [
      "01/01/2019 31/12/2019\n"
     ]
    }
   ],
   "source": [
    "date = data[\"Date\"]\n",
    "print(min(date),max(date))"
   ]
  },
  {
   "cell_type": "markdown",
   "metadata": {},
   "source": [
    "# Number of Casualties in 2019\n",
    "\n"
   ]
  },
  {
   "cell_type": "code",
   "execution_count": 484,
   "metadata": {},
   "outputs": [
    {
     "data": {
      "text/plain": [
       "1191.0"
      ]
     },
     "execution_count": 484,
     "metadata": {},
     "output_type": "execute_result"
    }
   ],
   "source": [
    "sum(data['Number_of_Casualties'])"
   ]
  },
  {
   "cell_type": "markdown",
   "metadata": {},
   "source": [
    "# Sum of casualties each day in sheffield"
   ]
  },
  {
   "cell_type": "code",
   "execution_count": 485,
   "metadata": {},
   "outputs": [],
   "source": [
    "Sunday    =  (data['Day_of_Week']==1)\n",
    "Monday    =  (data['Day_of_Week']==2) \n",
    "Tuesday   =  (data['Day_of_Week']==3)\n",
    "Wednesday =  (data['Day_of_Week']==4)\n",
    "Thursday  =  (data['Day_of_Week']==5)\n",
    "Friday    =  (data['Day_of_Week']==6)\n",
    "Saturday  =  (data['Day_of_Week']==7)\n",
    "\n",
    "week_masks = [Monday, Tuesday, Wednesday, Thursday, Friday, Saturday, Sunday]\n",
    "entire = [sum(data['Number_of_Casualties'][i]) for i in week_masks]"
   ]
  },
  {
   "cell_type": "code",
   "execution_count": 486,
   "metadata": {},
   "outputs": [
    {
     "data": {
      "image/png": "[encoded data removed]",
      "text/plain": [
       "<Figure size 576x360 with 1 Axes>"
      ]
     },
     "metadata": {
      "needs_background": "light"
     },
     "output_type": "display_data"
    }
   ],
   "source": [
    "fig = plt.figure(figsize=(8, 5))\n",
    "axes = fig.add_axes([0, 0, 1, 1])\n",
    "axes.set_title(\"Sum of casualties each weekday in Sheffield\")\n",
    "axes.set_ylabel(\"Total number of casualties\")\n",
    "axes.bar(week, entire, tick_label = week)\n",
    "plt.plot();"
   ]
  },
  {
   "cell_type": "markdown",
   "metadata": {},
   "source": [
    "# Most deadly accident in Sheffield\n",
    "The most deadly accident in Sheffield has a total of 13 deaths "
   ]
  },
  {
   "cell_type": "code",
   "execution_count": 487,
   "metadata": {},
   "outputs": [
    {
     "data": {
      "text/html": [
       "<div>\n",
       "<style scoped>\n",
       "    .dataframe tbody tr th:only-of-type {\n",
       "        vertical-align: middle;\n",
       "    }\n",
       "\n",
       "    .dataframe tbody tr th {\n",
       "        vertical-align: top;\n",
       "    }\n",
       "\n",
       "    .dataframe thead th {\n",
       "        text-align: right;\n",
       "    }\n",
       "</style>\n",
       "<table border=\"1\" class=\"dataframe\">\n",
       "  <thead>\n",
       "    <tr style=\"text-align: right;\">\n",
       "      <th></th>\n",
       "      <th>Accident_Index</th>\n",
       "      <th>Location_Easting_OSGR</th>\n",
       "      <th>Location_Northing_OSGR</th>\n",
       "      <th>Longitude</th>\n",
       "      <th>Latitude</th>\n",
       "      <th>Police_Force</th>\n",
       "      <th>Accident_Severity</th>\n",
       "      <th>Number_of_Vehicles</th>\n",
       "      <th>Number_of_Casualties</th>\n",
       "      <th>Date</th>\n",
       "      <th>...</th>\n",
       "      <th>Journey_Purpose_of_Driver</th>\n",
       "      <th>Sex_of_Driver</th>\n",
       "      <th>Age_of_Driver</th>\n",
       "      <th>Age_Band_of_Driver</th>\n",
       "      <th>Engine_Capacity_(CC)</th>\n",
       "      <th>Propulsion_Code</th>\n",
       "      <th>Age_of_Vehicle</th>\n",
       "      <th>Driver_IMD_Decile</th>\n",
       "      <th>Driver_Home_Area_Type</th>\n",
       "      <th>Vehicle_IMD_Decile</th>\n",
       "    </tr>\n",
       "  </thead>\n",
       "  <tbody>\n",
       "    <tr>\n",
       "      <th>45460</th>\n",
       "      <td>2019140838359</td>\n",
       "      <td>441195.0</td>\n",
       "      <td>389563.0</td>\n",
       "      <td>-1.38188</td>\n",
       "      <td>53.401308</td>\n",
       "      <td>14.0</td>\n",
       "      <td>3.0</td>\n",
       "      <td>2.0</td>\n",
       "      <td>13.0</td>\n",
       "      <td>10/05/2019</td>\n",
       "      <td>...</td>\n",
       "      <td>6</td>\n",
       "      <td>1</td>\n",
       "      <td>76</td>\n",
       "      <td>11</td>\n",
       "      <td>1242</td>\n",
       "      <td>1</td>\n",
       "      <td>4</td>\n",
       "      <td>8</td>\n",
       "      <td>3</td>\n",
       "      <td>8</td>\n",
       "    </tr>\n",
       "  </tbody>\n",
       "</table>\n",
       "<p>1 rows × 54 columns</p>\n",
       "</div>"
      ],
      "text/plain": [
       "      Accident_Index  Location_Easting_OSGR  Location_Northing_OSGR  \\\n",
       "45460  2019140838359               441195.0                389563.0   \n",
       "\n",
       "       Longitude   Latitude  Police_Force  Accident_Severity  \\\n",
       "45460   -1.38188  53.401308          14.0                3.0   \n",
       "\n",
       "       Number_of_Vehicles  Number_of_Casualties        Date  ...  \\\n",
       "45460                 2.0                  13.0  10/05/2019  ...   \n",
       "\n",
       "       Journey_Purpose_of_Driver Sex_of_Driver  Age_of_Driver  \\\n",
       "45460                          6             1             76   \n",
       "\n",
       "      Age_Band_of_Driver  Engine_Capacity_(CC)  Propulsion_Code  \\\n",
       "45460                 11                  1242                1   \n",
       "\n",
       "       Age_of_Vehicle  Driver_IMD_Decile  Driver_Home_Area_Type  \\\n",
       "45460               4                  8                      3   \n",
       "\n",
       "       Vehicle_IMD_Decile  \n",
       "45460                   8  \n",
       "\n",
       "[1 rows x 54 columns]"
      ]
     },
     "execution_count": 487,
     "metadata": {},
     "output_type": "execute_result"
    }
   ],
   "source": [
    "mx = max(data['Number_of_Casualties'])\n",
    "mask = (data['Number_of_Casualties'] == mx)\n",
    "data[mask]"
   ]
  },
  {
   "cell_type": "markdown",
   "metadata": {},
   "source": [
    "# Task 1\n",
    "Report the frequency of road collisions in your city for 1) different age groups, 2) in different times\n",
    "(during the day, the week, or year), 3) and for differences in one other condition."
   ]
  },
  {
   "cell_type": "code",
   "execution_count": 488,
   "metadata": {},
   "outputs": [
    {
     "data": {
      "text/plain": [
       "909"
      ]
     },
     "execution_count": 488,
     "metadata": {},
     "output_type": "execute_result"
    }
   ],
   "source": [
    "data[\"Accident_Index\"].size"
   ]
  },
  {
   "cell_type": "markdown",
   "metadata": {},
   "source": [
    "There was a total of 909 accidents in the Sheffield district in 2019"
   ]
  },
  {
   "cell_type": "markdown",
   "metadata": {},
   "source": [
    "## Frequency of road collisions in your city for different age groups"
   ]
  },
  {
   "cell_type": "code",
   "execution_count": 491,
   "metadata": {},
   "outputs": [],
   "source": [
    "mask_age = (data[\"Age_of_Driver\"] >= 0)\n",
    "AoD = data[\"Age_of_Driver\"][mask_age]"
   ]
  },
  {
   "cell_type": "code",
   "execution_count": 496,
   "metadata": {},
   "outputs": [
    {
     "name": "stdout",
     "output_type": "stream",
     "text": [
      "[51, 322, 239, 99, 21]\n"
     ]
    }
   ],
   "source": [
    "l = []\n",
    "mask = (data[\"Age_of_Driver\"] <20)\n",
    "\n",
    "l.append(AoD[mask].shape[0])\n",
    "mask = (data[\"Age_of_Driver\"] >20) & (data[\"Age_of_Driver\"] <40)\n",
    "l.append(AoD[mask].shape[0])\n",
    "mask = (data[\"Age_of_Driver\"] >40) & (data[\"Age_of_Driver\"] <60)\n",
    "l.append(AoD[mask].shape[0])\n",
    "mask = (data[\"Age_of_Driver\"] >60) & (data[\"Age_of_Driver\"] <80)\n",
    "l.append(AoD[mask].shape[0])\n",
    "mask = (data[\"Age_of_Driver\"] >80)\n",
    "l.append(AoD[mask].shape[0])\n",
    "print(l)"
   ]
  },
  {
   "cell_type": "code",
   "execution_count": 497,
   "metadata": {},
   "outputs": [
    {
     "data": {
      "image/png": "[encoded data removed]",
      "text/plain": [
       "<Figure size 1080x360 with 1 Axes>"
      ]
     },
     "metadata": {
      "needs_background": "light"
     },
     "output_type": "display_data"
    }
   ],
   "source": [
    "fig = plt.figure(figsize=(15,5))\n",
    "axes = fig.add_axes([0,0,1,1])\n",
    "axes.set_title(\"Frequency of road collisions in Sheffield for different age groups\")\n",
    "axes.set_ylabel(\"Frequency\")\n",
    "interval = [\"<20\",'20-40', '40-60', '60-80', '80+']\n",
    "axes.bar(interval, l);"
   ]
  },
  {
   "cell_type": "markdown",
   "metadata": {},
   "source": [
    "## Report the frequency of road collisions in your city for in different times (during the day, the week, or year)"
   ]
  },
  {
   "cell_type": "markdown",
   "metadata": {},
   "source": [
    "### Day\n",
    "There is no bad data (negative timestamps and so on), in the time column, thus no cleaning is needed."
   ]
  },
  {
   "cell_type": "code",
   "execution_count": 474,
   "metadata": {
    "code_folding": [
     0,
     23
    ]
   },
   "outputs": [
    {
     "data": {
      "image/png": "[encoded data removed]",
      "text/plain": [
       "<Figure size 1080x360 with 1 Axes>"
      ]
     },
     "metadata": {
      "needs_background": "light"
     },
     "output_type": "display_data"
    }
   ],
   "source": [
    "l = [['00:00', '02:00'], \n",
    "     ['02:00', '04:00'], \n",
    "     ['04:00', '06:00'], \n",
    "     ['06:00', '08:00'], \n",
    "     ['08:00', '10:00'], \n",
    "     ['10:00', '12:00'],\n",
    "     ['12:00', '14:00'], \n",
    "     ['14:00', '16:00'], \n",
    "     ['16:00', '18:00'], \n",
    "     ['18:00', '20:00'], \n",
    "     ['20:00', '22:00'],\n",
    "     ['22:00', '24:00']]\n",
    "\n",
    "empty = []\n",
    "for i in range(0,12):\n",
    "    mask = (data[\"Time\"] < l[i][1]) & (data[\"Time\"] > l[i][0])\n",
    "    total = len(data[mask][\"Time\"])\n",
    "    empty.append(total)\n",
    "    \n",
    "fig = plt.figure(figsize=(15,5))\n",
    "axes = fig.add_axes([0,0,1,1])\n",
    "axes.set_title(\"Frequency of road collisions in Sheffield in a 2 hour interval\")\n",
    "axes.set_ylabel(\"Frequency\")\n",
    "interval = [\"00:00-02:00\",'02:00-04:00', '04:00-06:00', '06:00-08:00', '08:00-10:00', '10:00-12:00',\n",
    "                 '12:00-14:00','14:00-16:00', '16:00-18:00', '18:00-20:00', '20:00-22:00', '22:00-24:00']\n",
    "axes.bar(interval, empty);"
   ]
  },
  {
   "cell_type": "markdown",
   "metadata": {},
   "source": [
    "### Week"
   ]
  },
  {
   "cell_type": "code",
   "execution_count": 475,
   "metadata": {},
   "outputs": [
    {
     "data": {
      "image/png": "[encoded data removed]",
      "text/plain": [
       "<Figure size 576x360 with 1 Axes>"
      ]
     },
     "metadata": {
      "needs_background": "light"
     },
     "output_type": "display_data"
    }
   ],
   "source": [
    "week = [\"Monday\", \"Tuesday\", \"Wednesday\",\"Thursday\",\"Friday\", \"Saturday\", \"Sunday\"]\n",
    "unq = data[\"Day_of_Week\"].unique()\n",
    "count = data[\"Day_of_Week\"].value_counts()\n",
    "fig = plt.figure(figsize=(8, 5))\n",
    "axes = fig.add_axes([0, 0, 1, 1])\n",
    "axes.set_title(\"Accidents each day from 01/01/2019 to 31/12/2019 in Sheffield\")\n",
    "axes.set_ylabel(\"Total number of accidents\")\n",
    "axes.bar(sorted(unq), count, tick_label = week)\n",
    "plt.plot();"
   ]
  },
  {
   "cell_type": "markdown",
   "metadata": {},
   "source": [
    "### year"
   ]
  },
  {
   "cell_type": "code",
   "execution_count": null,
   "metadata": {},
   "outputs": [],
   "source": []
  }
 ],
 "metadata": {
  "kernelspec": {
   "display_name": "Python 3",
   "language": "python",
   "name": "python3"
  },
  "language_info": {
   "codemirror_mode": {
    "name": "ipython",
    "version": 3
   },
   "file_extension": ".py",
   "mimetype": "text/x-python",
   "name": "python",
   "nbconvert_exporter": "python",
   "pygments_lexer": "ipython3",
   "version": "3.8.3"
  },
  "latex_envs": {
   "LaTeX_envs_menu_present": true,
   "autoclose": false,
   "autocomplete": true,
   "bibliofile": "biblio.bib",
   "cite_by": "apalike",
   "current_citInitial": 1,
   "eqLabelWithNumbers": true,
   "eqNumInitial": 1,
   "hotkeys": {
    "equation": "Ctrl-E",
    "itemize": "Ctrl-I"
   },
   "labels_anchors": false,
   "latex_user_defs": false,
   "report_style_numbering": false,
   "user_envs_cfg": false
  },
  "toc": {
   "base_numbering": 1,
   "nav_menu": {},
   "number_sections": true,
   "sideBar": true,
   "skip_h1_title": false,
   "title_cell": "Table of Contents",
   "title_sidebar": "Contents",
   "toc_cell": false,
   "toc_position": {
    "height": "calc(100% - 180px)",
    "left": "10px",
    "top": "150px",
    "width": "384px"
   },
   "toc_section_display": true,
   "toc_window_display": true
  }
 },
 "nbformat": 4,
 "nbformat_minor": 4
}
