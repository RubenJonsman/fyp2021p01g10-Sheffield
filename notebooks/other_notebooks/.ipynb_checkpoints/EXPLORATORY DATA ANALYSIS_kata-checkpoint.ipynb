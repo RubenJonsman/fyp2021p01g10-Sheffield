{
 "cells": [
  {
   "cell_type": "markdown",
   "metadata": {},
   "source": [
    "# TODO LIST\n",
    "\n",
    "Following has to be done prior to 11-02-2021\n",
    "- 5  Numerical or categorical\n",
    "- 6  Sanity check\n",
    "- 7  Five Number Summary\n",
    "- 8  Box Plot\n",
    "- 9  Frequency Histogram"
   ]
  },
  {
   "cell_type": "markdown",
   "metadata": {},
   "source": [
    " # Imports"
   ]
  },
  {
   "cell_type": "code",
   "execution_count": 3,
   "metadata": {},
   "outputs": [],
   "source": [
    "import pandas as pd\n",
    "import os\n",
    "import matplotlib.pyplot as plt\n",
    "import numpy as np\n",
    "\n",
    "# warnings imported because warnings were getting annoying\n",
    "import warnings\n",
    "warnings.filterwarnings('ignore')"
   ]
  },
  {
   "cell_type": "markdown",
   "metadata": {},
   "source": [
    "# loading the data"
   ]
  },
  {
   "cell_type": "code",
   "execution_count": 4,
   "metadata": {
    "scrolled": true
   },
   "outputs": [],
   "source": [
    "# loading the files\n",
    "file = \"C:/Users/Ruben PC/Desktop/FirstYearProject/1st_project/\"\n",
    "accidents = pd.read_csv(\"data/processed/Road Safety Data - Accidents 2019.csv\") \n",
    "vehicle = pd.read_csv(\"data/processed/Road Safety Data - Vehicles 2019.csv\")\n",
    "casualty = pd.read_csv(\"data/processed/Road Safety Data - Casualties 2019.csv\")\n",
    "\n",
    "\n",
    "\n",
    "# combining the data into one combined dataFrame\n",
    "result = pd.concat([accidents, vehicle, casualty], axis=1)\n",
    "\n",
    "# removing duplicate columns\n",
    "data = result.loc[:,~result.columns.duplicated()]\n",
    "sheffield = (result[\"Local_Authority_(District)\"] == 215)\n",
    "data = data[sheffield]"
   ]
  },
  {
   "cell_type": "markdown",
   "metadata": {},
   "source": [
    "# Dimensions of the data\n",
    "Report the dimensions of the data (number of tables, rows, fields)"
   ]
  },
  {
   "cell_type": "code",
   "execution_count": 5,
   "metadata": {},
   "outputs": [
    {
     "name": "stdout",
     "output_type": "stream",
     "text": [
      "There is a 3 tables:\n",
      "Dimensions of file named:\t accidents:\t  (117536, 32)\n",
      "Dimensions of file named:\t vehicles:\t  (216381, 23)\n",
      "Dimensions of file named:\t casualties:\t  (153158, 16)\n",
      "Dimensions of all files combined:  (909, 68)\n"
     ]
    }
   ],
   "source": [
    "# Dimensions of the data\n",
    "print(\"There is a 3 tables:\")\n",
    "print(\"Dimensions of file named:\\t accidents:\\t \", accidents.shape)\n",
    "print(\"Dimensions of file named:\\t vehicles:\\t \", vehicle.shape)\n",
    "print(\"Dimensions of file named:\\t casualties:\\t \", casualty.shape)\n",
    "print(\"Dimensions of all files combined: \", data.shape)"
   ]
  },
  {
   "cell_type": "markdown",
   "metadata": {},
   "source": [
    "# Numerical or categorical   - NOT READY"
   ]
  },
  {
   "cell_type": "code",
   "execution_count": 39,
   "metadata": {
    "code_folding": []
   },
   "outputs": [
    {
     "name": "stdout",
     "output_type": "stream",
     "text": [
      "Categorical values in Accidents: \n",
      " Accident_Index               object\n",
      "Date                         object\n",
      "Time                         object\n",
      "Local_Authority_(Highway)    object\n",
      "LSOA_of_Accident_Location    object\n",
      "dtype: object\n",
      "\n",
      "\n",
      "Categorical values in Vehicle: \n",
      " Accident_Index    object\n",
      "dtype: object\n",
      "\n",
      "\n",
      "Categorical values in Casualty: \n",
      " Accident_Index    object\n",
      "dtype: object\n"
     ]
    }
   ],
   "source": [
    "print(\"Categorical values in Accidents: \\n\", accidents.select_dtypes(include=['object', 'bool']).dtypes)\n",
    "print('\\n')\n",
    "print(\"Categorical values in Vehicle: \\n\", vehicle.select_dtypes(include=['object', 'bool']).dtypes)\n",
    "print('\\n')\n",
    "print(\"Categorical values in Casualty: \\n\", casualty.select_dtypes(include=['object', 'bool']).dtypes)"
   ]
  },
  {
   "cell_type": "code",
   "execution_count": 35,
   "metadata": {},
   "outputs": [
    {
     "name": "stdout",
     "output_type": "stream",
     "text": [
      "Numerical values in Accidents: \n",
      " Location_Easting_OSGR     float64\n",
      "Location_Northing_OSGR    float64\n",
      "Longitude                 float64\n",
      "Latitude                  float64\n",
      "dtype: object\n",
      "\n",
      "\n",
      "Numerical values in Vehicle: \n",
      " Series([], dtype: object)\n",
      "\n",
      "\n",
      "Numerical values in Casualty: \n",
      " Series([], dtype: object)\n"
     ]
    }
   ],
   "source": [
    "print(\"Numerical values in Accidents: \\n\", accidents.select_dtypes(include=['float', 'int', 'category']).dtypes)\n",
    "print('\\n')\n",
    "print(\"Numerical values in Vehicle: \\n\", vehicle.select_dtypes(include=['float', 'int', 'category']).dtypes)\n",
    "print('\\n')\n",
    "print(\"Numerical values in Casualty: \\n\", casualty.select_dtypes(include=['float', 'int', 'category']).dtypes)"
   ]
  },
  {
   "cell_type": "markdown",
   "metadata": {},
   "source": [
    "# Sanity check"
   ]
  },
  {
   "cell_type": "code",
   "execution_count": 18,
   "metadata": {},
   "outputs": [],
   "source": [
    "# TODO"
   ]
  },
  {
   "cell_type": "markdown",
   "metadata": {},
   "source": [
    "# Five Number Summary & Box Plot"
   ]
  },
  {
   "cell_type": "code",
   "execution_count": 22,
   "metadata": {},
   "outputs": [],
   "source": [
    "mask_age = (vehicle['Age_of_Driver']>=0)\n",
    "sheffield_agecleaned = vehicle[\"Age_of_Driver\"][mask_age]\n",
    "\n",
    "Q2 = np.quantile(sheffield_agecleaned, .50)\n",
    "Q1 = np.quantile(sheffield_agecleaned, .25)\n",
    "Q3 = np.quantile(sheffield_agecleaned, .75)\n",
    "agemin = min(sheffield_agecleaned)\n",
    "agemax = max(sheffield_agecleaned)"
   ]
  },
  {
   "cell_type": "code",
   "execution_count": 23,
   "metadata": {},
   "outputs": [
    {
     "data": {
      "text/plain": [
       "[1, 28.0, 38.0, 52.0, 102]"
      ]
     },
     "execution_count": 23,
     "metadata": {},
     "output_type": "execute_result"
    }
   ],
   "source": [
    "fivenumbersummary = [agemin, Q1, Q2, Q3, agemax]\n",
    "fivenumbersummary"
   ]
  },
  {
   "cell_type": "code",
   "execution_count": 24,
   "metadata": {},
   "outputs": [
    {
     "data": {
      "image/png": "[encoded data removed]",
      "text/plain": [
       "<Figure size 288x216 with 1 Axes>"
      ]
     },
     "metadata": {
      "needs_background": "light"
     },
     "output_type": "display_data"
    }
   ],
   "source": [
    "fig = plt.figure(figsize=(4, 3))\n",
    "axes = fig.add_axes([0, 0, 1, 1]) \n",
    "axes.boxplot(sheffield_agecleaned);\n",
    "\n",
    "axes.set_ylabel('Age of driver')\n",
    "axes.set_xticklabels('')\n",
    "axes.set_title('Boxplot of the age of drivers(cleaned data)');"
   ]
  },
  {
   "cell_type": "code",
   "execution_count": 26,
   "metadata": {},
   "outputs": [],
   "source": [
    "mask_male = (vehicle['Sex_of_Driver']==1)\n",
    "mask_female = (vehicle['Sex_of_Driver']==2)"
   ]
  },
  {
   "cell_type": "code",
   "execution_count": 27,
   "metadata": {},
   "outputs": [],
   "source": [
    "sheffield_age_male= vehicle[\"Age_of_Driver\"][mask_male]\n",
    "sheffield_age_female= vehicle[\"Age_of_Driver\"][mask_female]"
   ]
  },
  {
   "cell_type": "code",
   "execution_count": 28,
   "metadata": {},
   "outputs": [],
   "source": [
    "Q2m = np.quantile(sheffield_age_male, .50)\n",
    "Q1m = np.quantile(sheffield_age_male, .25)\n",
    "Q3m = np.quantile(sheffield_age_male, .75)\n",
    "ageminm = min(sheffield_age_male)\n",
    "agemaxm = max(sheffield_age_male)\n",
    "\n",
    "Q2f = np.quantile(sheffield_age_female, .50)\n",
    "Q1f = np.quantile(sheffield_age_female, .25)\n",
    "Q3f = np.quantile(sheffield_age_female, .75)\n",
    "ageminf = min(sheffield_age_female)\n",
    "agemaxf = max(sheffield_age_female)"
   ]
  },
  {
   "cell_type": "code",
   "execution_count": 29,
   "metadata": {},
   "outputs": [
    {
     "data": {
      "text/plain": [
       "([-1, 27.0, 38.0, 52.0, 101], [-1, 26.0, 37.0, 51.0, 102])"
      ]
     },
     "execution_count": 29,
     "metadata": {},
     "output_type": "execute_result"
    }
   ],
   "source": [
    "fivenumbersummary_m = [ageminm, Q1m, Q2m, Q3m, agemaxm]\n",
    "fivenumbersummary_f = [ageminf, Q1f, Q2f, Q3f, agemaxf]\n",
    "\n",
    "fivenumbersummary_f, fivenumbersummary_m"
   ]
  },
  {
   "cell_type": "code",
   "execution_count": 30,
   "metadata": {},
   "outputs": [
    {
     "data": {
      "image/png": "[encoded data removed]",
      "text/plain": [
       "<Figure size 432x720 with 1 Axes>"
      ]
     },
     "metadata": {
      "needs_background": "light"
     },
     "output_type": "display_data"
    }
   ],
   "source": [
    "fig, ax = plt.subplots(figsize=(6, 10))\n",
    "female_male=[sheffield_age_female, sheffield_age_male]\n",
    "ax.boxplot(female_male)\n",
    "\n",
    "\n",
    "ax.set_ylabel('Age of driver')\n",
    "plt.xticks([1, 2],['Female', 'Male'])\n",
    "ax.set_title('Boxplot of the age of drivers(cleaned data)');"
   ]
  },
  {
   "cell_type": "code",
   "execution_count": 43,
   "metadata": {},
   "outputs": [],
   "source": [
    "mask_age = (vehicle['Age_of_Driver']>=0)\n",
    "sheffield_agecleaned_vehicle = accidents[\"Number_of_Vehicles\"][mask_age]\n",
    "\n",
    "Q2 = np.quantile(sheffield_agecleaned_vehicle, .50)\n",
    "Q1 = np.quantile(sheffield_agecleaned_vehicle, .25)\n",
    "Q3 = np.quantile(sheffield_agecleaned_vehicle, .75)\n",
    "vehiclemin = min(sheffield_agecleaned_vehicle)\n",
    "vehiclemax = max(sheffield_agecleaned_vehicle)"
   ]
  },
  {
   "cell_type": "code",
   "execution_count": 44,
   "metadata": {},
   "outputs": [
    {
     "data": {
      "text/plain": [
       "[1, 1.0, 2.0, 2.0, 17]"
      ]
     },
     "execution_count": 44,
     "metadata": {},
     "output_type": "execute_result"
    }
   ],
   "source": [
    "fivenumbersummary = [vehiclemin, Q1, Q2, Q3, vehiclemax]\n",
    "fivenumbersummary"
   ]
  },
  {
   "cell_type": "code",
   "execution_count": 47,
   "metadata": {},
   "outputs": [
    {
     "data": {
      "image/png": "[encoded data removed]",
      "text/plain": [
       "<Figure size 288x216 with 1 Axes>"
      ]
     },
     "metadata": {
      "needs_background": "light"
     },
     "output_type": "display_data"
    }
   ],
   "source": [
    "fig = plt.figure(figsize=(4, 3))\n",
    "axes = fig.add_axes([0, 0, 1, 1]) \n",
    "axes.boxplot(sheffield_agecleaned_vehicle);\n",
    "\n",
    "axes.set_ylabel('Number of vehicles')\n",
    "axes.set_xticklabels('')\n",
    "axes.set_title('Boxplot of the Number of Vehicles in an Accident');"
   ]
  },
  {
   "cell_type": "markdown",
   "metadata": {},
   "source": [
    "# Frequency Histogram\n",
    "Report a frequency histogram for all numerical variables, and a frequency bar plot for all categorical variables (where this makes sense)\n",
    " "
   ]
  },
  {
   "cell_type": "code",
   "execution_count": 105,
   "metadata": {},
   "outputs": [
    {
     "data": {
      "text/plain": [
       "['Accident_Index',\n",
       " 'Location_Easting_OSGR',\n",
       " 'Location_Northing_OSGR',\n",
       " 'Longitude',\n",
       " 'Latitude',\n",
       " 'Police_Force',\n",
       " 'Accident_Severity',\n",
       " 'Number_of_Vehicles',\n",
       " 'Number_of_Casualties',\n",
       " 'Date',\n",
       " 'Day_of_Week',\n",
       " 'Time',\n",
       " 'Local_Authority_(District)',\n",
       " 'Local_Authority_(Highway)',\n",
       " '1st_Road_Class',\n",
       " '1st_Road_Number',\n",
       " 'Road_Type',\n",
       " 'Speed_limit',\n",
       " 'Junction_Detail',\n",
       " 'Junction_Control',\n",
       " '2nd_Road_Class',\n",
       " '2nd_Road_Number',\n",
       " 'Pedestrian_Crossing-Human_Control',\n",
       " 'Pedestrian_Crossing-Physical_Facilities',\n",
       " 'Light_Conditions',\n",
       " 'Weather_Conditions',\n",
       " 'Road_Surface_Conditions',\n",
       " 'Special_Conditions_at_Site',\n",
       " 'Carriageway_Hazards',\n",
       " 'Urban_or_Rural_Area',\n",
       " 'Did_Police_Officer_Attend_Scene_of_Accident',\n",
       " 'LSOA_of_Accident_Location']"
      ]
     },
     "execution_count": 105,
     "metadata": {},
     "output_type": "execute_result"
    }
   ],
   "source": [
    "list(accidents.columns)"
   ]
  },
  {
   "cell_type": "code",
   "execution_count": 107,
   "metadata": {},
   "outputs": [
    {
     "data": {
      "image/png": "[encoded data removed]",
      "text/plain": [
       "<Figure size 1080x720 with 4 Axes>"
      ]
     },
     "metadata": {
      "needs_background": "light"
     },
     "output_type": "display_data"
    }
   ],
   "source": [
    "# TODO\n",
    "fig, ax = plt.subplots(2, 2, figsize=(15, 10))\n",
    "mask = (vehicle[\"Age_of_Driver\"] >=0)\n",
    "accidents[\"Number_of_Vehicles\"].  hist(ax=ax[0,0], bins=20, bottom=0.1)\n",
    "accidents[\"Speed_limit\"].         hist(ax=ax[1,1], bins=7);\n",
    "accidents[\"Number_of_Casualties\"].hist(ax=ax[0,1], bins=20, bottom=0.1)\n",
    "vehicle  [\"Age_of_Driver\"][mask]       .hist(ax=ax[1,0], bins=50, bottom=0.1)\n",
    "\n",
    "ax[0,0].set_title('Histogram over Number of Vehicles in an accident')\n",
    "ax[1,1].set_title('Histogram over Speed Limit in an accident')\n",
    "ax[0,1].set_title('Histogram over Number of Casualties in an accident')\n",
    "ax[1,0].set_title('Histogram over Age of Driver in an accident')\n",
    "ax[0,0].set_ylabel('Frequency')\n",
    "ax[1,0].set_ylabel('Frequency')\n",
    "ax[0,1].set_ylabel('Frequency')\n",
    "ax[1,1].set_ylabel('Frequency')\n",
    "ax[0,0].set_xlabel('Amount of vehicles')\n",
    "ax[1,1].set_xlabel('Speed Limit')\n",
    "ax[0,1].set_xlabel('Number of Casualties')\n",
    "ax[1,0].set_xlabel('Age of Driver')\n",
    "ax[0,0].set_yscale('log')\n",
    "ax[1,1].set_yscale('log')\n",
    "ax[0,1].set_yscale('log')\n",
    "ax[1,0].set_yscale('log')\n"
   ]
  },
  {
   "cell_type": "code",
   "execution_count": 80,
   "metadata": {},
   "outputs": [],
   "source": []
  },
  {
   "cell_type": "code",
   "execution_count": null,
   "metadata": {},
   "outputs": [],
   "source": []
  }
 ],
 "metadata": {
  "kernelspec": {
   "display_name": "Python 3",
   "language": "python",
   "name": "python3"
  },
  "language_info": {
   "codemirror_mode": {
    "name": "ipython",
    "version": 3
   },
   "file_extension": ".py",
   "mimetype": "text/x-python",
   "name": "python",
   "nbconvert_exporter": "python",
   "pygments_lexer": "ipython3",
   "version": "3.8.3"
  },
  "latex_envs": {
   "LaTeX_envs_menu_present": true,
   "autoclose": false,
   "autocomplete": true,
   "bibliofile": "biblio.bib",
   "cite_by": "apalike",
   "current_citInitial": 1,
   "eqLabelWithNumbers": true,
   "eqNumInitial": 1,
   "hotkeys": {
    "equation": "Ctrl-E",
    "itemize": "Ctrl-I"
   },
   "labels_anchors": false,
   "latex_user_defs": false,
   "report_style_numbering": false,
   "user_envs_cfg": false
  },
  "toc": {
   "base_numbering": 1,
   "nav_menu": {},
   "number_sections": true,
   "sideBar": true,
   "skip_h1_title": false,
   "title_cell": "Table of Contents",
   "title_sidebar": "Contents",
   "toc_cell": false,
   "toc_position": {},
   "toc_section_display": true,
   "toc_window_display": false
  }
 },
 "nbformat": 4,
 "nbformat_minor": 4
}
